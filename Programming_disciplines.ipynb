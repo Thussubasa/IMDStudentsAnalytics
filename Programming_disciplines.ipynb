{
 "cells": [
  {
   "cell_type": "code",
   "execution_count": null,
   "metadata": {
    "collapsed": true
   },
   "outputs": [],
   "source": [
    "# Import necessary module\n",
    "from sqlalchemy import create_engine\n",
    "import pandas as pd\n",
    "\n",
    "# Create engine: engine\n",
    "engine = create_engine('sqlite:///programming.sqlite')"
   ]
  },
  {
   "cell_type": "code",
   "execution_count": null,
   "metadata": {
    "collapsed": false
   },
   "outputs": [],
   "source": [
    "# What are the tables in the database?\n",
    "\n",
    "# Save the table names to a list: table_names\n",
    "table_names  = engine.table_names()\n",
    "\n",
    "# Print the table names to the shell\n",
    "print(table_names)\n",
    "\n",
    "# See the data model here: http://chinookdatabase.codeplex.com/wikipage?title=Chinook_Schema&referringTitle=Home"
   ]
  },
  {
   "cell_type": "code",
   "execution_count": null,
   "metadata": {
    "collapsed": false
   },
   "outputs": [],
   "source": [
    "# The power of SQL lies in relationships between tables: INNER JOIN\n",
    "\n",
    "# Execute query and store records in DataFrame: df\n",
    "itp_rep = pd.read_sql_query(\"select * from Grade WHERE Disciplina = 'IMD0012.0 - INTRODUÇĂO ŔS TÉCNICAS DE PROGRAMAÇĂO' AND Situaçăo like '%REPROVADO%' \",engine)\n",
    "itp_ap = pd.read_sql_query(\"select * from Grade WHERE Disciplina = 'IMD0012.0 - INTRODUÇĂO ŔS TÉCNICAS DE PROGRAMAÇĂO' AND Situaçăo like '%APROVADO%' \",engine)\n",
    "itp_tra = pd.read_sql_query(\"select * from Grade WHERE Disciplina = 'IMD0012.0 - INTRODUÇĂO ŔS TÉCNICAS DE PROGRAMAÇĂO' AND Situaçăo like '%CANCELADO%' \",engine)\n",
    "dfAll = pd.read_sql_query(\"select * from Grade\",engine) \n",
    "\n",
    "# drop the unnecessary column\n",
    "itp_rep = itp_rep.drop('index', 1)\n",
    "itp_ap = itp_ap.drop('index', 1)\n",
    "dfAll = dfAll.drop('index', 1)\n",
    "\n",
    "itp_rep = itp_rep[['Aluno_ID', 'Período']].drop_duplicates().groupby('Período').count()\n",
    "itp_ap = itp_ap[['Aluno_ID', 'Período']].drop_duplicates().groupby('Período').count()\n",
    "\n",
    "# Print head of DataFrame\n",
    "\n",
    "dfAll"
   ]
  },
  {
   "cell_type": "markdown",
   "metadata": {
    "collapsed": true
   },
   "source": []
  },
  {
   "cell_type": "code",
   "execution_count": null,
   "metadata": {
    "collapsed": false
   },
   "outputs": [],
   "source": [
    "# Import modules from Bokeh visualization library\n",
    "from bokeh.charts import Scatter, BoxPlot, Bar, color, Donut\n",
    "from bokeh.layouts import gridplot, row\n",
    "from bokeh.io import output_notebook, show\n",
    "from bokeh.plotting import figure, ColumnDataSource\n",
    "\n",
    "\n",
    "p = Bar(itp_rep, values='Aluno_ID', xlabel='Período', ylabel='Total', \n",
    "        title=\"Students failing in ITP by period\", color='Aluno_ID')\n",
    "output_notebook()\n",
    "show(p)"
   ]
  },
  {
   "cell_type": "code",
   "execution_count": null,
   "metadata": {
    "collapsed": false
   },
   "outputs": [],
   "source": [
    "p2 = Bar(itp_ap, values='Aluno_ID', xlabel='Período', ylabel='Total', \n",
    "        title=\"Students Approved in ITP by period\", color='Aluno_ID')\n",
    "\n",
    "output_notebook()\n",
    "show(p2)"
   ]
  },
  {
   "cell_type": "markdown",
   "metadata": {
    "collapsed": true
   },
   "source": [
    "## Subjects Connections"
   ]
  },
  {
   "cell_type": "code",
   "execution_count": null,
   "metadata": {
    "collapsed": true
   },
   "outputs": [],
   "source": [
    "# Execute query and store records in DataFrame: df\n",
    "base_df = pd.read_sql_query('SELECT * FROM Grade', engine)\n",
    "\n",
    "# drop the unnecessary column\n",
    "base_df = base_df.drop('index', 1)"
   ]
  },
  {
   "cell_type": "code",
   "execution_count": null,
   "metadata": {
    "collapsed": false
   },
   "outputs": [],
   "source": [
    "base_df.loc[base_df['Disciplina'] == 'IMD0012.0 - INTRODUÇĂO ŔS TÉCNICAS DE PROGRAMAÇĂO', 'Disciplina'] = 'ITP'\n",
    "base_df.loc[base_df['Disciplina'] == 'IMD0012.1 - PRÁTICAS DE TÉCNICAS DE PROGRAMAÇĂO', 'Disciplina']   = 'PTP'\n",
    "base_df.loc[base_df['Disciplina'] == 'IMD0029 - ESTRUTURA DE DADOS BÁSICAS I', 'Disciplina']            = 'EDB1'\n",
    "base_df.loc[base_df['Disciplina'] == 'IMD0030 - LINGUAGEM DE PROGRAMAÇĂO I', 'Disciplina']              = 'LP1'\n",
    "base_df.loc[base_df['Disciplina'] == 'IMD0039 - ESTRUTURAS DE DADOS BÁSICAS II', 'Disciplina']          = 'EDB2'\n",
    "base_df.loc[base_df['Disciplina'] == 'IMD0040 - LINGUAGEM DE PROGRAMAÇĂO II', 'Disciplina']             = 'LP2'"
   ]
  },
  {
   "cell_type": "code",
   "execution_count": null,
   "metadata": {
    "collapsed": false
   },
   "outputs": [],
   "source": [
    "# Based on main subjects set its dependents\n",
    "SECONDARY_SUBJECTS = ['EDB1', 'EDB2', 'LP1', 'LP2']"
   ]
  },
  {
   "cell_type": "code",
   "execution_count": null,
   "metadata": {
    "collapsed": true
   },
   "outputs": [],
   "source": [
    "# Import modules from Bokeh visualization library\n",
    "from bokeh.charts import Scatter, BoxPlot, Bar, color, Donut\n",
    "from bokeh.layouts import gridplot, row\n",
    "from bokeh.io import output_notebook, show\n",
    "from bokeh.plotting import figure, ColumnDataSource"
   ]
  },
  {
   "cell_type": "code",
   "execution_count": null,
   "metadata": {
    "collapsed": true
   },
   "outputs": [],
   "source": [
    "# Add the lib package to the system path, so that we can include SubjectConnections from there.\n",
    "\n",
    "import os\n",
    "import sys\n",
    "module_path = os.path.abspath(os.path.join('./'))\n",
    "if module_path not in sys.path:\n",
    "    sys.path.append(module_path)\n",
    "    \n",
    "from lib.subject_connections import SubjectConnections"
   ]
  },
  {
   "cell_type": "code",
   "execution_count": null,
   "metadata": {
    "collapsed": true
   },
   "outputs": [],
   "source": [
    "def get_group_by_grade(grade):\n",
    "    if(grade >= 5 and grade < 6):\n",
    "        return '5 < 6'\n",
    "    if(grade >= 6 and grade < 7):\n",
    "        return '6 < 7'\n",
    "    if(grade >= 7 and grade < 8):\n",
    "        return '7 < 8'\n",
    "    if(grade >= 8 and grade < 9):\n",
    "        return '8 < 9'\n",
    "    if(grade >= 9):\n",
    "        return '9 - 10'"
   ]
  },
  {
   "cell_type": "code",
   "execution_count": null,
   "metadata": {
    "collapsed": true
   },
   "outputs": [],
   "source": [
    "# Generate bar chart by students grouped df\n",
    "\n",
    "def students_grouped_bar(df, title):\n",
    "    return Bar(\n",
    "            df,\n",
    "            label  = 'Grupo Média',\n",
    "            values = 'Total',\n",
    "            title  = title,\n",
    "            xlabel = 'Grade groups',\n",
    "            ylabel = 'Total approved students',\n",
    "            color  = 'Grupo Média',\n",
    "            legend='top_right',\n",
    "            plot_height=300\n",
    "            \n",
    "    )"
   ]
  },
  {
   "cell_type": "code",
   "execution_count": null,
   "metadata": {
    "collapsed": true
   },
   "outputs": [],
   "source": [
    "# Helper method to generate boxplot\n",
    "\n",
    "def generate_boxplot(df, base_subject_key, subject_key): \n",
    "    return BoxPlot(\n",
    "        df,\n",
    "        values = '{}_grade'.format(subject_key),\n",
    "        label  = 'Grupo Média',\n",
    "        color  = 'Grupo Média',\n",
    "        xlabel = '{} grade groups'.format(base_subject_key),\n",
    "        ylabel = '{} grades'.format(subject_key), \n",
    "        title  = '{} student grades grouped by {} grades'.format(subject_key, base_subject_key)\n",
    "    )"
   ]
  },
  {
   "cell_type": "code",
   "execution_count": null,
   "metadata": {
    "collapsed": true
   },
   "outputs": [],
   "source": [
    "# Generate boxplot list based on SubjectConnections instance\n",
    "\n",
    "def dependent_subjects_list(list, subj_connection, base_subject):\n",
    "    boxplot_list = []\n",
    "\n",
    "    for subject in list:\n",
    "        column_name = '{}_grade'.format(subject)\n",
    "\n",
    "        students_df = base_df[base_df['Disciplina'] == subject]\n",
    "        df = subj_connection.obtain_values_from(students_df, column_name, ['Grupo Média'])\n",
    "        \n",
    "        grade_groups_mean_df = df.groupby('Grupo Média')[column_name].mean().reset_index()\n",
    "        \n",
    "        box = generate_boxplot(df, base_subject, subject)\n",
    "        box.line(x = grade_groups_mean_df['Grupo Média'], y = grade_groups_mean_df[column_name], line_width = 2, line_color = '#2C3E50')\n",
    "        box.circle(x = grade_groups_mean_df['Grupo Média'], y = grade_groups_mean_df[column_name], color = \"#F1C40F\", size = 5)\n",
    "\n",
    "        boxplot_list.append(box)\n",
    "    \n",
    "    return boxplot_list"
   ]
  },
  {
   "cell_type": "markdown",
   "metadata": {},
   "source": [
    "### ITP - INTRODUÇÃO ÀS TÉCNICAS DE PROGRAMAÇÃO"
   ]
  },
  {
   "cell_type": "code",
   "execution_count": null,
   "metadata": {
    "collapsed": true
   },
   "outputs": [],
   "source": [
    "query = \"\"\"\n",
    "    SELECT *\n",
    "    FROM Grade\n",
    "    WHERE Disciplina = 'IMD0012.0 - INTRODUÇĂO ŔS TÉCNICAS DE PROGRAMAÇĂO'\n",
    "    AND Situaçăo LIKE 'APROVADO%'\n",
    "\"\"\"\n",
    "\n",
    "ITP_students_df = pd.read_sql_query(query, engine)\n",
    "\n",
    "ITP_connections = SubjectConnections(ITP_students_df, 'Aluno_ID')\n",
    "ITP_connections.parse_column('Média Final', 'Grupo Média', get_group_by_grade)"
   ]
  },
  {
   "cell_type": "code",
   "execution_count": null,
   "metadata": {
    "collapsed": false
   },
   "outputs": [],
   "source": [
    "total_approved_ITP_by_group = ITP_connections.base_df.groupby('Grupo Média', as_index=False)['Aluno_ID'].agg({\n",
    "    'Total': 'count'\n",
    "})\n",
    "\n",
    "b = students_grouped_bar(total_approved_ITP_by_group, 'Total approved students on ITP by grade group')\n",
    "\n",
    "output_notebook()\n",
    "show(b)"
   ]
  },
  {
   "cell_type": "code",
   "execution_count": null,
   "metadata": {
    "collapsed": false
   },
   "outputs": [],
   "source": [
    "boxplots = dependent_subjects_list(\n",
    "    SECONDARY_SUBJECTS, ITP_connections, 'ITP'\n",
    ")\n",
    "\n",
    "grid = gridplot(boxplots, ncols=2, plot_width=460, plot_height=400)\n",
    "\n",
    "output_notebook()\n",
    "show(grid)"
   ]
  },
  {
   "cell_type": "markdown",
   "metadata": {},
   "source": [
    "### PTP - PRÁTICAS DE TÉCNICAS DE PROGRAMAÇÃO"
   ]
  },
  {
   "cell_type": "code",
   "execution_count": null,
   "metadata": {
    "collapsed": true
   },
   "outputs": [],
   "source": [
    "query = \"\"\"\n",
    "    SELECT *\n",
    "    FROM Grade\n",
    "    WHERE Disciplina = 'IMD0012.1 - PRÁTICAS DE TÉCNICAS DE PROGRAMAÇĂO'\n",
    "    AND Situaçăo LIKE 'APROVADO%'\n",
    "\"\"\"\n",
    "\n",
    "PTP_students_df = pd.read_sql_query(query, engine)\n",
    "\n",
    "PTP_connections = SubjectConnections(PTP_students_df, 'Aluno_ID')\n",
    "PTP_connections.parse_column('Média Final', 'Grupo Média', get_group_by_grade)"
   ]
  },
  {
   "cell_type": "code",
   "execution_count": null,
   "metadata": {
    "collapsed": false
   },
   "outputs": [],
   "source": [
    "total_approved_PTP_by_group = PTP_connections.base_df.groupby('Grupo Média', as_index=False)['Aluno_ID'].agg({\n",
    "    'Total': 'count'\n",
    "})\n",
    "\n",
    "b = students_grouped_bar(total_approved_PTP_by_group, 'Total approved students on PTP by grade group')\n",
    "\n",
    "output_notebook()\n",
    "show(b)"
   ]
  },
  {
   "cell_type": "code",
   "execution_count": null,
   "metadata": {
    "collapsed": false
   },
   "outputs": [],
   "source": [
    "boxplots = dependent_subjects_list(\n",
    "    SECONDARY_SUBJECTS, PTP_connections, 'PTP'\n",
    ")\n",
    "\n",
    "grid = gridplot(boxplots, ncols=2, plot_width=460, plot_height=400)\n",
    "\n",
    "output_notebook()\n",
    "show(grid)"
   ]
  },
  {
   "cell_type": "markdown",
   "metadata": {},
   "source": [
    "## Students Reproved on Subjects"
   ]
  },
  {
   "cell_type": "code",
   "execution_count": null,
   "metadata": {
    "collapsed": true
   },
   "outputs": [],
   "source": [
    "def stack_dataframe_column(df, column_label, column_value):\n",
    "    stacked = df.reset_index().drop('index', 1).stack()\n",
    "    final_df = pd.DataFrame(stacked).reset_index(1)\n",
    "    final_df.rename(columns={ 'level_1': column_label, 0: column_value }, inplace=True)\n",
    "    \n",
    "    return final_df\n",
    "\n",
    "def stack_dataframe_by_units(df, units = []):\n",
    "    frames = []\n",
    "\n",
    "    for unit in units:\n",
    "        frames.append(stack_dataframe_column(df[unit], 'Unidade', 'Nota'))\n",
    "    \n",
    "    return pd.concat(frames)"
   ]
  },
  {
   "cell_type": "code",
   "execution_count": null,
   "metadata": {
    "collapsed": true
   },
   "outputs": [],
   "source": [
    "def generate_reproved_analysis_on_subject(subject, subject_alias):\n",
    "    query = \"\"\"\n",
    "        SELECT *\n",
    "        FROM Grade\n",
    "        WHERE Disciplina = '{}'\n",
    "        AND Situaçăo LIKE 'REPROVADO%'\n",
    "    \"\"\"\n",
    "    query = query.format(subject)\n",
    "\n",
    "    reproved_students_df = pd.read_sql_query(query, engine)\n",
    "    units_df = stack_dataframe_by_units(reproved_students_df, ['Unidade I', 'Unidade II ', 'Unidade III'])\n",
    "    \n",
    "    return BoxPlot(\n",
    "        units_df,\n",
    "        values='Nota',\n",
    "        label='Unidade',\n",
    "        color='Unidade',\n",
    "        title='Units grades of students reproved in {}'.format(subject_alias)\n",
    "    )"
   ]
  },
  {
   "cell_type": "code",
   "execution_count": null,
   "metadata": {
    "collapsed": true
   },
   "outputs": [],
   "source": [
    "boxplots = []\n",
    "\n",
    "subjects = [\n",
    "    { 'title': 'IMD0012.0 - INTRODUÇĂO ŔS TÉCNICAS DE PROGRAMAÇĂO', 'alias': 'ITP' },\n",
    "    { 'title': 'IMD0012.1 - PRÁTICAS DE TÉCNICAS DE PROGRAMAÇĂO',   'alias': 'PTP' },\n",
    "    { 'title': 'IMD0029 - ESTRUTURA DE DADOS BÁSICAS I',            'alias': 'EDB 1' },\n",
    "    { 'title': 'IMD0039 - ESTRUTURAS DE DADOS BÁSICAS II',          'alias': 'EDB 2' },\n",
    "    { 'title': 'IMD0030 - LINGUAGEM DE PROGRAMAÇĂO I',              'alias': 'LP1' },\n",
    "    { 'title': 'IMD0040 - LINGUAGEM DE PROGRAMAÇĂO II',             'alias': 'LP2' }\n",
    "]\n",
    "\n",
    "for subject in subjects:\n",
    "    boxplots.append(generate_reproved_analysis_on_subject(subject['title'], subject['alias']))"
   ]
  },
  {
   "cell_type": "code",
   "execution_count": null,
   "metadata": {
    "collapsed": false,
    "scrolled": false
   },
   "outputs": [],
   "source": [
    "grid = gridplot(boxplots, ncols=2, plot_width=460, plot_height=400)\n",
    "\n",
    "output_notebook()\n",
    "show(grid)"
   ]
  }
 ],
 "metadata": {
  "kernelspec": {
   "display_name": "Python 3",
   "language": "python",
   "name": "python3"
  },
  "language_info": {
   "codemirror_mode": {
    "name": "ipython",
    "version": 3
   },
   "file_extension": ".py",
   "mimetype": "text/x-python",
   "name": "python",
   "nbconvert_exporter": "python",
   "pygments_lexer": "ipython3",
   "version": "3.6.0"
  }
 },
 "nbformat": 4,
 "nbformat_minor": 2
}
